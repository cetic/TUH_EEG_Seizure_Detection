{
 "metadata": {
  "language_info": {
   "codemirror_mode": {
    "name": "ipython",
    "version": 3
   },
   "file_extension": ".py",
   "mimetype": "text/x-python",
   "name": "python",
   "nbconvert_exporter": "python",
   "pygments_lexer": "ipython3",
   "version": "3.8.10"
  },
  "orig_nbformat": 2,
  "kernelspec": {
   "name": "python3",
   "display_name": "Python 3.8.10 64-bit"
  },
  "metadata": {
   "interpreter": {
    "hash": "e180c17edad5ea7b685624a44bab1191aa99d8eacd8eaca93e5f34744f1aff1c"
   }
  },
  "interpreter": {
   "hash": "f82adb0e5d42c8309810e6bcd026964f84139cba56913daaa32f5af2e8edfb53"
  }
 },
 "nbformat": 4,
 "nbformat_minor": 2,
 "cells": [
  {
   "cell_type": "code",
   "execution_count": 1,
   "metadata": {
    "tags": []
   },
   "outputs": [
    {
     "output_type": "error",
     "ename": "FileNotFoundError",
     "evalue": "[WinError 3] Le chemin d’accès spécifié est introuvable: '~/TUH_SZ_v1.5.2/Epilepsy_Seizure_Detection/input_vector'",
     "traceback": [
      "\u001b[1;31m---------------------------------------------------------------------------\u001b[0m",
      "\u001b[1;31mFileNotFoundError\u001b[0m                         Traceback (most recent call last)",
      "\u001b[1;32m~\\AppData\\Local\\Temp/ipykernel_10840/2968010441.py\u001b[0m in \u001b[0;36m<module>\u001b[1;34m\u001b[0m\n\u001b[0;32m      4\u001b[0m \u001b[1;33m\u001b[0m\u001b[0m\n\u001b[0;32m      5\u001b[0m info_files = [\n\u001b[1;32m----> 6\u001b[1;33m     file_ for file_ in os.listdir(\n\u001b[0m\u001b[0;32m      7\u001b[0m         \u001b[1;34m'~/TUH_SZ_v1.5.2/Epilepsy_Seizure_Detection/input_vector'\u001b[0m\u001b[1;33m\u001b[0m\u001b[1;33m\u001b[0m\u001b[0m\n\u001b[0;32m      8\u001b[0m     ) if file_.endswith('.info')\n",
      "\u001b[1;31mFileNotFoundError\u001b[0m: [WinError 3] Le chemin d’accès spécifié est introuvable: '~/TUH_SZ_v1.5.2/Epilepsy_Seizure_Detection/input_vector'"
     ]
    }
   ],
   "source": [
    "import os\n",
    "import re\n",
    "\n",
    "\n",
    "info_files = [\n",
    "    file_ for file_ in os.listdir(\n",
    "        '~/TUH_SZ_v1.5.2/Epilepsy_Seizure_Detection/input_vector'\n",
    "    ) if file_.endswith('.info')\n",
    "]\n",
    "\n",
    "commands = set()\n",
    "for info_file in info_files:\n",
    "    # print(info_file)\n",
    "    matches = re.findall(\n",
    "        r'\\[.*sys\\.argv.*\\]\\s*\\[(.*)\\]',\n",
    "        open(info_file, 'r').read()\n",
    "    )\n",
    "    # print(matches)\n",
    "\n",
    "    if matches:\n",
    "        text = matches[0]\n",
    "        regex = r'\\'(.*?)\\''\n",
    "        command = re.findall(regex, text)\n",
    "        # print(' '.join(command))\n",
    "        commands.add(' '.join(command[1:]))\n",
    "        # print(command)\n",
    "    else:\n",
    "        # print('No command found')\n",
    "        pass\n",
    "    # print()\n",
    "\n",
    "# print(len(info_files))\n",
    "# print(len(commands))\n",
    "\n",
    "for cmd in commands:\n",
    "    print(cmd, '\\n')\n",
    "# print(commands)"
   ]
  },
  {
   "cell_type": "code",
   "execution_count": 2,
   "metadata": {},
   "outputs": [],
   "source": [
    "# generate sbatch script and launch the jobs\n",
    "# add the smoothed values"
   ]
  },
  {
   "cell_type": "code",
   "execution_count": 3,
   "metadata": {},
   "outputs": [
    {
     "output_type": "stream",
     "name": "stdout",
     "text": [
      "hello\n"
     ]
    }
   ],
   "source": [
    "import locale\n",
    "import subprocess\n",
    "\n",
    "\n",
    "def run_command(command):\n",
    "    \"\"\" Run the command and directly output to the console. \"\"\"\n",
    "    process = subprocess.Popen(command, stdout=subprocess.PIPE)\n",
    "    while True:\n",
    "        output = process.stdout.readline()\n",
    "        if output == b'' and process.poll() is not None:\n",
    "            break\n",
    "        if output:\n",
    "            print(output.decode(locale.getdefaultlocale()[1]), end='')\n",
    "    return process.poll()\n",
    "\n",
    "\n",
    "if __name__ == '__main__':\n",
    "    recipe_command = [\n",
    "        'echo',\n",
    "        'hello'\n",
    "    ]\n",
    "\n",
    "    run_command(recipe_command)\n"
   ]
  },
  {
   "cell_type": "code",
   "execution_count": 4,
   "metadata": {},
   "outputs": [
    {
     "output_type": "stream",
     "name": "stdout",
     "text": [
      "srun -N1 -n1 -c1 --exclusive python3 src/metrics.py model -sw 12 -sr 0.666666666 -df tuh ar gsz -tf tuh ar gsz --xlsx_file reports/metrics/model_1_AR_GSZ_SMOOTHING_8_12.xlsx\nsrun -N1 -n1 -c1 --exclusive python3 src/metrics.py model -sw 21 -sr 0.7143 -df tuh ar gsz -tf tuh ar gsz --xlsx_file reports/metrics/model_1_AR_GSZ_SMOOTHING_15_21.xlsx\nsrun -N1 -n1 -c1 --exclusive python3 src/metrics.py model -sw 0 -df tuh ar gsz -tf tuh ar gsz --xlsx_file reports/metrics/model_1_AR_GSZ_NO_SMOOTHING.xlsx\nsrun -N1 -n1 -c1 --exclusive python3 src/metrics.py model -sw 12 -sr 0.666666666 -df tuh ar -tf tuh ar --xlsx_file reports/metrics/model_1_AR_SMOOTHING_8_12.xlsx\nsrun -N1 -n1 -c1 --exclusive python3 src/metrics.py model -sw 21 -sr 0.7143 -df tuh ar -tf tuh ar --xlsx_file reports/metrics/model_1_AR_SMOOTHING_15_21.xlsx\nsrun -N1 -n1 -c1 --exclusive python3 src/metrics.py model -sw 0 -df tuh ar -tf tuh ar --xlsx_file reports/metrics/model_1_AR_NO_SMOOTHING.xlsx\nsrun -N1 -n1 -c1 --exclusive python3 src/metrics.py model -sw 12 -sr 0.666666666 -df tuh ar_le -tf tuh ar_le --xlsx_file reports/metrics/model_1_AR_LE_SMOOTHING_8_12.xlsx\nsrun -N1 -n1 -c1 --exclusive python3 src/metrics.py model -sw 21 -sr 0.7143 -df tuh ar_le -tf tuh ar_le --xlsx_file reports/metrics/model_1_AR_LE_SMOOTHING_15_21.xlsx\nsrun -N1 -n1 -c1 --exclusive python3 src/metrics.py model -sw 0 -df tuh ar_le -tf tuh ar_le --xlsx_file reports/metrics/model_1_AR_LE_NO_SMOOTHING.xlsx\n\n"
     ]
    }
   ],
   "source": [
    "import os\n",
    "# sbash_template = os.path.realpath(\n",
    "#     os.path.join(os.getcwd(), '..', 'jobs_scripts', 'template.sh')\n",
    "# )\n",
    "sbash_template = '~/TUH_SZ_v1.5.2/Epilepsy_Seizure_Detection/jobs_scripts/template.sh'\n",
    "sbash_template = open(sbash_template).read()\n",
    "\n",
    "gpu_template_ = sbash_template.format(\n",
    "    'auto_gpu',\n",
    "    'gpu',\n",
    "    '1',\n",
    "    '16',\n",
    "    '60G',\n",
    "    '24:00:00',\n",
    "    'id@umons.ac.be',\n",
    "    'ALL',\n",
    "    '#SBATCH --gres=\"gpu:2\"',\n",
    "    '{0}',\n",
    ")\n",
    "\n",
    "#SBATCH --job-name=all_ohv\n",
    "#SBATCH --partition=days\n",
    "#SBATCH --ntasks=1\n",
    "#SBATCH --cpus-per-task=16\n",
    "#SBATCH --mem=60G\n",
    "#SBATCH -t 4:00:00\n",
    "#SBATCH --mail-user=id@umons.ac.be\n",
    "#SBATCH --mail-type=ALL\n",
    "hpc_template_ = sbash_template.format(\n",
    "    'auto_hpc',\n",
    "    'days',\n",
    "    '1',\n",
    "    '16',\n",
    "    '60G',\n",
    "    '24:00:00',\n",
    "    'id@umons.ac.be',\n",
    "    'ALL',\n",
    "    '',\n",
    "    '{0}',\n",
    ")\n",
    "\n",
    "def hpc_template(command):\n",
    "    return hpc_template_.format(command)\n",
    "\n",
    "def gpu_template(command):\n",
    "    return gpu_template_.format(command)\n",
    "\n",
    "def run_gpu(command, filename):\n",
    "    open(filename, 'w').write(gpu_template(command))\n",
    "    run_command('sbatch {0}'.format(filename).split())\n",
    "\n",
    "# def metrics_commands(model, prefix):\n",
    "#     return 'srun -N1 -n1 -c1 --exclusive python3 src/metrics.py {0} -sw 12 -sr 0.666666666 -df tuh ar gsz -tf tuh ar gsz --xlsx_file {1}_AR_GSZ_SMOOTHING_8_12.xlsx\\n'.format(model, prefix)\n",
    "\n",
    "def metrics_commands(model, prefix):\n",
    "    # return 'srun -N1 -n1 -c1 --exclusive python3 src/metrics.py {0} -sw 12 -sr 0.666666666 -df tuh ar gsz -tf tuh ar gsz --xlsx_file {1}_AR_GSZ_SMOOTHING_8_12.xlsx\\n'.format(model, prefix)\n",
    "    return (\n",
    "        # AR GSZ\n",
    "        'srun -N1 -n1 -c1 --exclusive python3 src/metrics.py {0} '\n",
    "        '-sw 12 -sr 0.666666666 -df tuh ar gsz -tf tuh ar gsz '\n",
    "        '--xlsx_file {1}_AR_GSZ_SMOOTHING_8_12.xlsx\\n'\n",
    "        'srun -N1 -n1 -c1 --exclusive python3 src/metrics.py {0} '\n",
    "        '-sw 21 -sr 0.7143 -df tuh ar gsz -tf tuh ar gsz '\n",
    "        '--xlsx_file {1}_AR_GSZ_SMOOTHING_15_21.xlsx\\n'\n",
    "        'srun -N1 -n1 -c1 --exclusive python3 src/metrics.py {0} '\n",
    "        '-sw 0 -df tuh ar gsz -tf tuh ar gsz '\n",
    "        '--xlsx_file {1}_AR_GSZ_NO_SMOOTHING.xlsx\\n'\n",
    "        # AR\n",
    "        'srun -N1 -n1 -c1 --exclusive python3 src/metrics.py {0} '\n",
    "        '-sw 12 -sr 0.666666666 -df tuh ar -tf tuh ar '\n",
    "        '--xlsx_file {1}_AR_SMOOTHING_8_12.xlsx\\n'\n",
    "        'srun -N1 -n1 -c1 --exclusive python3 src/metrics.py {0} '\n",
    "        '-sw 21 -sr 0.7143 -df tuh ar -tf tuh ar '\n",
    "        '--xlsx_file {1}_AR_SMOOTHING_15_21.xlsx\\n'\n",
    "        'srun -N1 -n1 -c1 --exclusive python3 src/metrics.py {0} '\n",
    "        '-sw 0 -df tuh ar -tf tuh ar '\n",
    "        '--xlsx_file {1}_AR_NO_SMOOTHING.xlsx\\n'\n",
    "        # AR and LE\n",
    "        'srun -N1 -n1 -c1 --exclusive python3 src/metrics.py {0} '\n",
    "        '-sw 12 -sr 0.666666666 -df tuh ar_le -tf tuh ar_le '\n",
    "        '--xlsx_file {1}_AR_LE_SMOOTHING_8_12.xlsx\\n'\n",
    "        'srun -N1 -n1 -c1 --exclusive python3 src/metrics.py {0} '\n",
    "        '-sw 21 -sr 0.7143 -df tuh ar_le -tf tuh ar_le '\n",
    "        '--xlsx_file {1}_AR_LE_SMOOTHING_15_21.xlsx\\n'\n",
    "        'srun -N1 -n1 -c1 --exclusive python3 src/metrics.py {0} '\n",
    "        '-sw 0 -df tuh ar_le -tf tuh ar_le '\n",
    "        '--xlsx_file {1}_AR_LE_NO_SMOOTHING.xlsx\\n'\n",
    "    ).format(model, prefix)\n",
    "\n",
    "print(metrics_commands('model', 'reports/metrics/model_1'))\n",
    "\n",
    "# run_gpu('echo hello', 'test')"
   ]
  },
  {
   "cell_type": "code",
   "execution_count": 5,
   "metadata": {},
   "outputs": [
    {
     "output_type": "stream",
     "name": "stdout",
     "text": [
      "/home_nfs/stragierv/TUH_SZ_v1.5.2/Epilepsy_Seizure_Detection\n"
     ]
    }
   ],
   "source": [
    "os.chdir('/home_nfs/stragierv/TUH_SZ_v1.5.2/Epilepsy_Seizure_Detection/')\n",
    "print(os.getcwd())\n",
    "# Model 1\n",
    "model_1 ='srun python3 src/save_input_vectors.py /home_nfs/stragierv/dataset.h5 -df tuh ar gsz -tf tuh ar gsz --files_prefix model_1_inputs -th 0.8 -rp -a -y\\nsrun --partition=gpu -N 1 -c 16 --mem=60G --gres=\"gpu:2\" python3 src/train_xgb.py input_vectors/model_1_inputs.info --split_train  --files_prefix model_1_model -y\\n' + metrics_commands('/home_nfs/stragierv/TUH_SZ_v1.5.2/Epilepsy_Seizure_Detection/models/model_1_model.info', 'reports/metrics/model_1')\n",
    "\n",
    "# Model 10\n",
    "model_10 ='srun python3 src/save_input_vectors.py /home_nfs/stragierv/dataset.h5 -df tuh ar_le -tf tuh ar_le --files_prefix model_10_inputs -th 0.8 -rp -a -y\\nsrun --partition=gpu -N 1 -c 16 --mem=60G --gres=\"gpu:2\" python3 src/train_xgb.py input_vectors/model_10_inputs.info --split_train  --files_prefix model_10_model -y\\n' + metrics_commands('/home_nfs/stragierv/TUH_SZ_v1.5.2/Epilepsy_Seizure_Detection/models/model_10_model.info', 'reports/metrics/model_10')\n",
    "\n",
    "# Model 11\n",
    "model_11 ='srun python3 src/save_input_vectors.py /home_nfs/stragierv/dataset.h5 -df tuh ar -tf tuh ar --files_prefix model_11_inputs -th 0.8 -rp -a -y\\nsrun --partition=gpu -N 1 -c 16 --mem=60G --gres=\"gpu:2\" python3 src/train_xgb.py input_vectors/model_11_inputs.info --split_train  --files_prefix model_11_model -y\\n' + metrics_commands('/home_nfs/stragierv/TUH_SZ_v1.5.2/Epilepsy_Seizure_Detection/models/model_11_model.info', 'reports/metrics/model_11')\n",
    "\n",
    "# Model 2\n",
    "model_2 = 'srun python3 src/save_input_vectors.py /home_nfs/stragierv/dataset.h5 -df tuh ar gsz -tf tuh ar gsz --files_prefix model_2_inputs -f line_length min -th 0.8 -rp -a -y\\nsrun --partition=gpu -N 1 -c 16 --mem=60G --gres=\"gpu:2\" python3 src/train_xgb.py input_vectors/model_2_inputs.info --split_train --files_prefix model_2_model -y\\n' + metrics_commands('/home_nfs/stragierv/TUH_SZ_v1.5.2/Epilepsy_Seizure_Detection/models/model_2_model.info', 'reports/metrics/model_2')\n",
    "\n",
    "# Model 3\n",
    "model_3 = 'srun python3 src/save_input_vectors.py /home_nfs/stragierv/dataset.h5 -df tuh ar gsz -tf tuh ar gsz --files_prefix model_3_inputs -th 0.8 -rp -a -y -f MIN MEAN MAX VARIANCE KURTOSIS SKEWNESS INTER_QUARTILE_RANGE HIGUCHI_FRACTAL_DIMENSION HJORTH_ACTIVITY HJORTH_MOBILITY HJORTH_COMPLEXITY PETROSIAN_FRACTAL_DIMENSION PAUL_FRACTAL_DIMENSION LINE_LENGTH MULTITAPER_DELTA_05HZ_4HZ_POWER MULTITAPER_THETA_4HZ_8HZ_POWER MULTITAPER_ALPHA_8HZ_12HZ_POWER MULTITAPER_BETA_12HZ_30HZ_POWER MULTITAPER_GAMMA_30HZ_100HZ_POWER MULTITAPER_EPILEPSY_2HZ_4HZ_POWER MULTITAPER_EPILEPSY_1HZ_5HZ_POWER MULTITAPER_EPILEPSY_0HZ_6HZ_POWER MULTITAPER_TOTAL_POWER MULTITAPER_DELTA_05HZ_4HZ_POWER_RATIO MULTITAPER_THETA_4HZ_8HZ_POWER_RATIO MULTITAPER_ALPHA_8HZ_12HZ_POWER_RATIO MULTITAPER_BETA_12HZ_30HZ_POWER_RATIO MULTITAPER_GAMMA_30HZ_100HZ_POWER_RATIO MULTITAPER_EPILEPSY_2HZ_4HZ_POWER_RATIO MULTITAPER_EPILEPSY_1HZ_5HZ_POWER_RATIO MULTITAPER_EPILEPSY_0HZ_6HZ_POWER_RATIO SPECTRAL_CENTROID SPECTRAL_FLATNESS\\nsrun --partition=gpu -N 1 -c 16 --mem=60G --gres=\"gpu:2\" python3 src/train_xgb.py input_vectors/model_3_inputs.info --split_train --files_prefix model_3_model -y\\n' + metrics_commands('/home_nfs/stragierv/TUH_SZ_v1.5.2/Epilepsy_Seizure_Detection/models/model_3_model.info', 'reports/metrics/model_3')\n",
    "\n",
    "# Model 4\n",
    "model_4 = 'srun python3 src/save_input_vectors.py /home_nfs/stragierv/dataset.h5 -df tuh ar gsz -tf tuh ar gsz --files_prefix model_4_inputs -th 0.8 -rp -a -y -f MIN MEAN MAX VARIANCE KURTOSIS SKEWNESS INTER_QUARTILE_RANGE HIGUCHI_FRACTAL_DIMENSION HJORTH_ACTIVITY HJORTH_MOBILITY HJORTH_COMPLEXITY PETROSIAN_FRACTAL_DIMENSION PAUL_FRACTAL_DIMENSION LINE_LENGTH MULTITAPER_DELTA_05HZ_4HZ_POWER MULTITAPER_THETA_4HZ_8HZ_POWER MULTITAPER_ALPHA_8HZ_12HZ_POWER MULTITAPER_BETA_12HZ_30HZ_POWER MULTITAPER_GAMMA_30HZ_100HZ_POWER MULTITAPER_EPILEPSY_2HZ_4HZ_POWER MULTITAPER_EPILEPSY_1HZ_5HZ_POWER MULTITAPER_EPILEPSY_0HZ_6HZ_POWER MULTITAPER_TOTAL_POWER MULTITAPER_DELTA_05HZ_4HZ_POWER_RATIO MULTITAPER_THETA_4HZ_8HZ_POWER_RATIO MULTITAPER_ALPHA_8HZ_12HZ_POWER_RATIO MULTITAPER_BETA_12HZ_30HZ_POWER_RATIO MULTITAPER_GAMMA_30HZ_100HZ_POWER_RATIO MULTITAPER_EPILEPSY_2HZ_4HZ_POWER_RATIO MULTITAPER_EPILEPSY_1HZ_5HZ_POWER_RATIO MULTITAPER_EPILEPSY_0HZ_6HZ_POWER_RATIO SPECTRAL_CENTROID SPECTRAL_FLATNESS -m F7-T3\\nsrun --partition=gpu -N 1 -c 16 --mem=60G --gres=\"gpu:2\" python3 src/train_xgb.py input_vectors/model_4_inputs.info --split_train --files_prefix model_4_model -y\\n' + metrics_commands('/home_nfs/stragierv/TUH_SZ_v1.5.2/Epilepsy_Seizure_Detection/models/model_4_model.info', 'reports/metrics/model_4')\n",
    "\n",
    "# Model 5\n",
    "model_5 = 'srun python3 src/save_input_vectors.py /home_nfs/stragierv/dataset.h5 -df tuh ar gsz -tf tuh ar gsz --files_prefix model_5_inputs -th 0.8 -rp  -a -y -f MIN MEAN MAX VARIANCE KURTOSIS SKEWNESS INTER_QUARTILE_RANGE HIGUCHI_FRACTAL_DIMENSION HJORTH_ACTIVITY HJORTH_MOBILITY HJORTH_COMPLEXITY PETROSIAN_FRACTAL_DIMENSION PAUL_FRACTAL_DIMENSION LINE_LENGTH MULTITAPER_DELTA_05HZ_4HZ_POWER MULTITAPER_THETA_4HZ_8HZ_POWER MULTITAPER_ALPHA_8HZ_12HZ_POWER MULTITAPER_BETA_12HZ_30HZ_POWER MULTITAPER_GAMMA_30HZ_100HZ_POWER MULTITAPER_EPILEPSY_2HZ_4HZ_POWER MULTITAPER_EPILEPSY_1HZ_5HZ_POWER MULTITAPER_EPILEPSY_0HZ_6HZ_POWER MULTITAPER_TOTAL_POWER MULTITAPER_DELTA_05HZ_4HZ_POWER_RATIO MULTITAPER_THETA_4HZ_8HZ_POWER_RATIO MULTITAPER_ALPHA_8HZ_12HZ_POWER_RATIO MULTITAPER_BETA_12HZ_30HZ_POWER_RATIO MULTITAPER_GAMMA_30HZ_100HZ_POWER_RATIO MULTITAPER_EPILEPSY_2HZ_4HZ_POWER_RATIO MULTITAPER_EPILEPSY_1HZ_5HZ_POWER_RATIO MULTITAPER_EPILEPSY_0HZ_6HZ_POWER_RATIO SPECTRAL_CENTROID SPECTRAL_FLATNESS -m T3-C3\\nsrun --partition=gpu -N 1 -c 16 --mem=60G --gres=\"gpu:2\" python3 src/train_xgb.py input_vectors/model_5_inputs.info --split_train --files_prefix model_5_model -y\\n' + metrics_commands('/home_nfs/stragierv/TUH_SZ_v1.5.2/Epilepsy_Seizure_Detection/models/model_5_model.info', 'reports/metrics/model_5')\n",
    "\n",
    "# Model 6\n",
    "model_6 = 'srun python3 src/save_input_vectors.py /home_nfs/stragierv/dataset.h5 -df tuh ar gsz -tf tuh ar gsz --files_prefix model_6_inputs -th 0.8 -rp -a -y -f MIN MEAN MAX VARIANCE KURTOSIS SKEWNESS INTER_QUARTILE_RANGE HIGUCHI_FRACTAL_DIMENSION HJORTH_ACTIVITY HJORTH_MOBILITY HJORTH_COMPLEXITY PETROSIAN_FRACTAL_DIMENSION PAUL_FRACTAL_DIMENSION LINE_LENGTH MULTITAPER_DELTA_05HZ_4HZ_POWER MULTITAPER_THETA_4HZ_8HZ_POWER MULTITAPER_ALPHA_8HZ_12HZ_POWER MULTITAPER_BETA_12HZ_30HZ_POWER MULTITAPER_GAMMA_30HZ_100HZ_POWER MULTITAPER_EPILEPSY_2HZ_4HZ_POWER MULTITAPER_EPILEPSY_1HZ_5HZ_POWER MULTITAPER_EPILEPSY_0HZ_6HZ_POWER MULTITAPER_TOTAL_POWER MULTITAPER_DELTA_05HZ_4HZ_POWER_RATIO MULTITAPER_THETA_4HZ_8HZ_POWER_RATIO MULTITAPER_ALPHA_8HZ_12HZ_POWER_RATIO MULTITAPER_BETA_12HZ_30HZ_POWER_RATIO MULTITAPER_GAMMA_30HZ_100HZ_POWER_RATIO MULTITAPER_EPILEPSY_2HZ_4HZ_POWER_RATIO MULTITAPER_EPILEPSY_1HZ_5HZ_POWER_RATIO MULTITAPER_EPILEPSY_0HZ_6HZ_POWER_RATIO SPECTRAL_CENTROID SPECTRAL_FLATNESS -m T3-T5\\nsrun --partition=gpu -N 1 -c 16 --mem=60G --gres=\"gpu:2\" python3 src/train_xgb.py input_vectors/model_6_inputs.info --split_train --files_prefix model_6_model -y\\n' + metrics_commands('/home_nfs/stragierv/TUH_SZ_v1.5.2/Epilepsy_Seizure_Detection/models/model_6_model.info', 'reports/metrics/model_6')\n",
    "\n",
    "# Model 7\n",
    "model_7 = 'srun python3 src/save_input_vectors.py /home_nfs/stragierv/dataset.h5 -df tuh ar_le -tf tuh ar_le --files_prefix model_7_inputs -th 0.8 -rp -a -y -f MIN MEAN MAX VARIANCE KURTOSIS SKEWNESS INTER_QUARTILE_RANGE HIGUCHI_FRACTAL_DIMENSION HJORTH_ACTIVITY HJORTH_MOBILITY HJORTH_COMPLEXITY PETROSIAN_FRACTAL_DIMENSION PAUL_FRACTAL_DIMENSION LINE_LENGTH MULTITAPER_DELTA_05HZ_4HZ_POWER MULTITAPER_THETA_4HZ_8HZ_POWER MULTITAPER_ALPHA_8HZ_12HZ_POWER MULTITAPER_BETA_12HZ_30HZ_POWER MULTITAPER_GAMMA_30HZ_100HZ_POWER MULTITAPER_EPILEPSY_2HZ_4HZ_POWER MULTITAPER_EPILEPSY_1HZ_5HZ_POWER MULTITAPER_EPILEPSY_0HZ_6HZ_POWER MULTITAPER_TOTAL_POWER MULTITAPER_DELTA_05HZ_4HZ_POWER_RATIO MULTITAPER_THETA_4HZ_8HZ_POWER_RATIO MULTITAPER_ALPHA_8HZ_12HZ_POWER_RATIO MULTITAPER_BETA_12HZ_30HZ_POWER_RATIO MULTITAPER_GAMMA_30HZ_100HZ_POWER_RATIO MULTITAPER_EPILEPSY_2HZ_4HZ_POWER_RATIO MULTITAPER_EPILEPSY_1HZ_5HZ_POWER_RATIO MULTITAPER_EPILEPSY_0HZ_6HZ_POWER_RATIO SPECTRAL_CENTROID SPECTRAL_FLATNESS -m F7-T3\\nsrun --partition=gpu -N 1 -c 16 --mem=60G --gres=\"gpu:2\" python3 src/train_xgb.py input_vectors/model_7_inputs.info --split_train --files_prefix model_7_model -y\\n' + metrics_commands('/home_nfs/stragierv/TUH_SZ_v1.5.2/Epilepsy_Seizure_Detection/models/model_7_model.info', 'reports/metrics/model_7')\n",
    "\n",
    "# Model 8\n",
    "model_8 = 'srun python3 src/save_input_vectors.py /home_nfs/stragierv/dataset.h5 -df tuh ar_le -tf tuh ar_le --files_prefix model_8_inputs -th 0.8 -rp  -a -y -f MIN MEAN MAX VARIANCE KURTOSIS SKEWNESS INTER_QUARTILE_RANGE HIGUCHI_FRACTAL_DIMENSION HJORTH_ACTIVITY HJORTH_MOBILITY HJORTH_COMPLEXITY PETROSIAN_FRACTAL_DIMENSION PAUL_FRACTAL_DIMENSION LINE_LENGTH MULTITAPER_DELTA_05HZ_4HZ_POWER MULTITAPER_THETA_4HZ_8HZ_POWER MULTITAPER_ALPHA_8HZ_12HZ_POWER MULTITAPER_BETA_12HZ_30HZ_POWER MULTITAPER_GAMMA_30HZ_100HZ_POWER MULTITAPER_EPILEPSY_2HZ_4HZ_POWER MULTITAPER_EPILEPSY_1HZ_5HZ_POWER MULTITAPER_EPILEPSY_0HZ_6HZ_POWER MULTITAPER_TOTAL_POWER MULTITAPER_DELTA_05HZ_4HZ_POWER_RATIO MULTITAPER_THETA_4HZ_8HZ_POWER_RATIO MULTITAPER_ALPHA_8HZ_12HZ_POWER_RATIO MULTITAPER_BETA_12HZ_30HZ_POWER_RATIO MULTITAPER_GAMMA_30HZ_100HZ_POWER_RATIO MULTITAPER_EPILEPSY_2HZ_4HZ_POWER_RATIO MULTITAPER_EPILEPSY_1HZ_5HZ_POWER_RATIO MULTITAPER_EPILEPSY_0HZ_6HZ_POWER_RATIO SPECTRAL_CENTROID SPECTRAL_FLATNESS -m T3-C3\\nsrun --partition=gpu -N 1 -c 16 --mem=60G --gres=\"gpu:2\" python3 src/train_xgb.py input_vectors/model_8_inputs.info --split_train --files_prefix model_8_model -y\\n' + metrics_commands('/home_nfs/stragierv/TUH_SZ_v1.5.2/Epilepsy_Seizure_Detection/models/model_8_model.info', 'reports/metrics/model_8')\n",
    "\n",
    "# Model 9\n",
    "model_9 = 'srun python3 src/save_input_vectors.py /home_nfs/stragierv/dataset.h5 -df tuh ar_le -tf tuh ar_le --files_prefix model_9_inputs -th 0.8 -rp -a -y -f MIN MEAN MAX VARIANCE KURTOSIS SKEWNESS INTER_QUARTILE_RANGE HIGUCHI_FRACTAL_DIMENSION HJORTH_ACTIVITY HJORTH_MOBILITY HJORTH_COMPLEXITY PETROSIAN_FRACTAL_DIMENSION PAUL_FRACTAL_DIMENSION LINE_LENGTH MULTITAPER_DELTA_05HZ_4HZ_POWER MULTITAPER_THETA_4HZ_8HZ_POWER MULTITAPER_ALPHA_8HZ_12HZ_POWER MULTITAPER_BETA_12HZ_30HZ_POWER MULTITAPER_GAMMA_30HZ_100HZ_POWER MULTITAPER_EPILEPSY_2HZ_4HZ_POWER MULTITAPER_EPILEPSY_1HZ_5HZ_POWER MULTITAPER_EPILEPSY_0HZ_6HZ_POWER MULTITAPER_TOTAL_POWER MULTITAPER_DELTA_05HZ_4HZ_POWER_RATIO MULTITAPER_THETA_4HZ_8HZ_POWER_RATIO MULTITAPER_ALPHA_8HZ_12HZ_POWER_RATIO MULTITAPER_BETA_12HZ_30HZ_POWER_RATIO MULTITAPER_GAMMA_30HZ_100HZ_POWER_RATIO MULTITAPER_EPILEPSY_2HZ_4HZ_POWER_RATIO MULTITAPER_EPILEPSY_1HZ_5HZ_POWER_RATIO MULTITAPER_EPILEPSY_0HZ_6HZ_POWER_RATIO SPECTRAL_CENTROID SPECTRAL_FLATNESS -m T3-T5\\nsrun --partition=gpu -N 1 -c 16 --mem=60G --gres=\"gpu:2\" python3 src/train_xgb.py input_vectors/model_9_inputs.info --split_train --files_prefix model_9_model -y\\n' + metrics_commands('/home_nfs/stragierv/TUH_SZ_v1.5.2/Epilepsy_Seizure_Detection/models/model_9_model.info', 'reports/metrics/model_9')\n",
    "\n",
    "models = [\n",
    "    # ('model_1', model_1),\n",
    "    ('model_2', model_2),\n",
    "    # ('model_3', model_3),\n",
    "    # ('model_4', model_4),\n",
    "    # ('model_5', model_5),\n",
    "    # ('model_6', model_6),\n",
    "]\n",
    "\n",
    "all_models = '\\n'.join(\n",
    "    [\n",
    "        model_1,\n",
    "        model_2,\n",
    "        model_3,\n",
    "        model_4,\n",
    "        model_5,\n",
    "        model_6,\n",
    "        model_7,\n",
    "        model_8,\n",
    "        model_9,\n",
    "    ],\n",
    ")\n",
    "\n",
    "# print(all_models)\n",
    "\n",
    "# for model in models:\n",
    "#     print(model[0] + ':\\n', model[1], sep='', end='\\n\\n')\n",
    "#     run_gpu(model[1], model[0])\n",
    "\n",
    "# run_gpu(all_models, 'all_models_2021_Q1.sh')\n"
   ]
  },
  {
   "cell_type": "code",
   "execution_count": 6,
   "metadata": {},
   "outputs": [
    {
     "output_type": "stream",
     "name": "stdout",
     "text": [
      "Submitted batch job 7341\n"
     ]
    }
   ],
   "source": [
    "all_models = '\\n'.join(\n",
    "    [\n",
    "        model_1,\n",
    "        model_2,\n",
    "        model_3,\n",
    "        model_4,\n",
    "        model_5,\n",
    "        model_6,\n",
    "        model_7,\n",
    "        model_8,\n",
    "        model_9,\n",
    "        model_10,\n",
    "        model_11,\n",
    "    ],\n",
    ")\n",
    "\n",
    "# print(all_models)\n",
    "\n",
    "# for model in models:\n",
    "#     print(model[0] + ':\\n', model[1], sep='', end='\\n\\n')\n",
    "#     run_gpu(model[1], model[0])\n",
    "\n",
    "# run_gpu(all_models, 'all_models_2021_Q1_(1-6).sh')\n",
    "run_gpu(all_models, 'all_models_2021_Q1_(1-11).sh')\n",
    "# run_gpu(all_models, 'all_models_2021_Q1_(7-10).sh')\n",
    "# run_gpu(model_10, 'all_models_2021_Q1_(10).sh')\n"
   ]
  }
 ]
}